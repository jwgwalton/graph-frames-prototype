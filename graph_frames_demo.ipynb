{
 "cells": [
  {
   "cell_type": "code",
   "execution_count": 1,
   "metadata": {},
   "outputs": [],
   "source": [
    "# run up the shell with  \n",
    "\n",
    "# pyspark --packages graphframes:graphframes:0.5.0-spark2.1-s_2.11\n",
    "\n",
    "# to allow for the graphframes import\n"
   ]
  },
  {
   "cell_type": "code",
   "execution_count": 98,
   "metadata": {},
   "outputs": [],
   "source": [
    "from graphframes import GraphFrame\n",
    "from pyspark.sql.functions import col"
   ]
  },
  {
   "cell_type": "code",
   "execution_count": 99,
   "metadata": {},
   "outputs": [],
   "source": [
    "v = sqlContext.createDataFrame([\n",
    "  (\"CH1\", \"CH\"),\n",
    "  (\"CH2\", \"CH\"),\n",
    "  (\"CH3\", \"CH\"),\n",
    "  (\"VAT1\", \"VAT\"),\n",
    "  (\"VAT2\", \"VAT\"),\n",
    "  (\"VAT3\", \"VAT\"),\n",
    "  (\"PAYE1\", \"PAYE\"),\n",
    "  (\"PAYE2\", \"PAYE\"),\n",
    "  (\"PAYE3\", \"PAYE\"),\n",
    "], [\"id\", \"type\"])"
   ]
  },
  {
   "cell_type": "code",
   "execution_count": 100,
   "metadata": {},
   "outputs": [],
   "source": [
    "e = sqlContext.createDataFrame([\n",
    "  (\"CH1\", \"VAT1\", \"0.8\"),\n",
    "  (\"CH1\", \"VAT2\", \"0.9\"),\n",
    "  (\"CH2\", \"VAT2\", \"0.91\"),\n",
    "  (\"VAT1\", \"PAYE1\", \"0.86\"),\n",
    "], [\"src\", \"dst\", 'weight'])"
   ]
  },
  {
   "cell_type": "code",
   "execution_count": 101,
   "metadata": {},
   "outputs": [],
   "source": [
    "# Create a GraphFrame\n",
    "g = GraphFrame(v, e)"
   ]
  },
  {
   "cell_type": "code",
   "execution_count": 102,
   "metadata": {},
   "outputs": [],
   "source": [
    "sc.setCheckpointDir(dirName='/Users/waltoj/development/datascience/graph-frames-prototype/checkpoints')"
   ]
  },
  {
   "cell_type": "code",
   "execution_count": 103,
   "metadata": {},
   "outputs": [],
   "source": [
    "connected_components = g.connectedComponents()"
   ]
  },
  {
   "cell_type": "code",
   "execution_count": 104,
   "metadata": {},
   "outputs": [],
   "source": [
    "#connected_components.collect()"
   ]
  },
  {
   "cell_type": "code",
   "execution_count": 105,
   "metadata": {},
   "outputs": [],
   "source": [
    "# component_ids = connected_components.select('component').distinct()\n",
    "component_ids = connected_components.select('component').distinct().rdd.map(lambda r: r[0]).collect()"
   ]
  },
  {
   "cell_type": "code",
   "execution_count": 106,
   "metadata": {},
   "outputs": [
    {
     "data": {
      "text/plain": [
       "[1443109011456, 1314259992576, 231928233984, 1357209665536, 661424963584]"
      ]
     },
     "execution_count": 106,
     "metadata": {},
     "output_type": "execute_result"
    }
   ],
   "source": [
    "component_ids"
   ]
  },
  {
   "cell_type": "code",
   "execution_count": 107,
   "metadata": {},
   "outputs": [],
   "source": [
    "def get_subgraph_vertices(connected_components, component_id):\n",
    "    return connected_components.where(col('component') == component_id)"
   ]
  },
  {
   "cell_type": "code",
   "execution_count": 108,
   "metadata": {},
   "outputs": [],
   "source": [
    "def get_sub_graph_edge_list(vertex_ids, edge_list):\n",
    "    \"\"\"\n",
    "    returns empty list if it's a single, as there are no edges\n",
    "    \"\"\"\n",
    "    return edge_list.where(col('src').isin(vertex_ids.collect()) | col('dst').isin(vertex_ids.collect()))"
   ]
  },
  {
   "cell_type": "code",
   "execution_count": 109,
   "metadata": {},
   "outputs": [],
   "source": [
    "def get_subgraph_components(component_id, connected_components, edge_list):\n",
    "    \"\"\"\n",
    "    Return edge list and vertex lists of the connected component generated from the connected_components algorithm\n",
    "    \"\"\"\n",
    "    subgraph_vertex_list = get_subgraph_vertices(connected_components, component_id) \n",
    "    subgraph_vertices_ids = subgraph_vertex_list.distinct().rdd.map(lambda r: r[0])\n",
    "    \n",
    "    sub_graph_edge_list = get_sub_graph_edge_list(subgraph_vertices_ids , edge_list)\n",
    "    \n",
    "    return subgraph_vertex_list, sub_graph_edge_list"
   ]
  },
  {
   "cell_type": "code",
   "execution_count": 110,
   "metadata": {},
   "outputs": [],
   "source": [
    "def multiple_ch_nodes(vertex_list):  \n",
    "    number_of_ch_nodes = vertex_list.where(vertex_list['type'] == 'CH').count()\n",
    "    return number_of_ch_nodes >= 2"
   ]
  },
  {
   "cell_type": "code",
   "execution_count": 115,
   "metadata": {},
   "outputs": [],
   "source": [
    "def split_complex_sub_graphs(vertex_list, edge_list):\n",
    "    G = GraphFrame(vertex_list, edge_list)\n",
    "    # need the locations of the CH nodes for the \n",
    "    ch_nodes = vertex_list.where(vertex_list['type'] == 'CH')\n",
    "    shortest_paths = G.shortestPaths(ch_nodes.rdd.map(lambda r: r[0]).collect())\n",
    "    print(shortest_paths.collect())\n",
    "    return"
   ]
  },
  {
   "cell_type": "code",
   "execution_count": 116,
   "metadata": {},
   "outputs": [],
   "source": [
    "def process_subgraph(vertex_list, edge_list):\n",
    "    \"\"\"\n",
    "    Check generated legal units are valid and decompose any which aren't into smaller legal units\n",
    "    param: dataframe of the edge list of the sub graph\n",
    "    \"\"\"\n",
    "    \n",
    "    #TODO: check if 2 CH's, split graph if t\n",
    "    if multiple_ch_nodes(vertex_list):\n",
    "        return split_complex_sub_graphs(vertex_list, edge_list)\n",
    "    # return a list of the subgraphs (list of lists)\n",
    "    # [[CH!, VAT2], [CH2, VAT3]]\n",
    "    \n",
    "    return\n",
    "     "
   ]
  },
  {
   "cell_type": "code",
   "execution_count": 117,
   "metadata": {},
   "outputs": [],
   "source": [
    "# create output dataframe to append too"
   ]
  },
  {
   "cell_type": "code",
   "execution_count": null,
   "metadata": {},
   "outputs": [],
   "source": [
    "for component_id in component_ids:\n",
    "    subgraph_vertex_list, subgraph_edge_list = get_subgraph_components(component_id, connected_components, e)\n",
    "    #print(subgraph_vertex_list.collect())\n",
    "    #print(subgraph_edge_list.collect())\n",
    "\n",
    "    sub_graphs = process_subgraph(subgraph_vertex_list, subgraph_edge_list)\n",
    "    # add final_sub_graph to an output df, what about singles which aren't picked up from get_subgraph?\n",
    "    "
   ]
  },
  {
   "cell_type": "code",
   "execution_count": null,
   "metadata": {},
   "outputs": [],
   "source": []
  },
  {
   "cell_type": "code",
   "execution_count": null,
   "metadata": {},
   "outputs": [],
   "source": []
  },
  {
   "cell_type": "code",
   "execution_count": null,
   "metadata": {},
   "outputs": [],
   "source": []
  }
 ],
 "metadata": {
  "kernelspec": {
   "display_name": "Python 3",
   "language": "python",
   "name": "python3"
  },
  "language_info": {
   "codemirror_mode": {
    "name": "ipython",
    "version": 3
   },
   "file_extension": ".py",
   "mimetype": "text/x-python",
   "name": "python",
   "nbconvert_exporter": "python",
   "pygments_lexer": "ipython3",
   "version": "3.6.5"
  }
 },
 "nbformat": 4,
 "nbformat_minor": 2
}
