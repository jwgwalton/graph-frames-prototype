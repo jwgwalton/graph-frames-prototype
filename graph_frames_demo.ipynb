{
 "cells": [
  {
   "cell_type": "code",
   "execution_count": 1,
   "metadata": {},
   "outputs": [],
   "source": [
    "# run up the shell with  \n",
    "\n",
    "# pyspark --packages graphframes:graphframes:0.5.0-spark2.1-s_2.11\n",
    "\n",
    "# to allow for the graphframes import"
   ]
  },
  {
   "cell_type": "code",
   "execution_count": 2,
   "metadata": {},
   "outputs": [],
   "source": [
    "from graphframes import GraphFrame\n",
    "from pyspark.sql.functions import col\n",
    "from pyspark.sql.types import StructField, ArrayType, StringType, StructType\n",
    "from complex_graph_splitter import split_complex_sub_graphs"
   ]
  },
  {
   "cell_type": "code",
   "execution_count": 3,
   "metadata": {},
   "outputs": [],
   "source": [
    "# Data comes in as an edge set already, \n",
    "# ID1, ID2, Arcweight\n",
    "\n",
    "# preprocessing is required to generate the vertex set, need to get all unique values in ID1 and ID2 and strip them,\n",
    "# this will mean we won't have any singles, which will be added in the add_single_legal_units "
   ]
  },
  {
   "cell_type": "code",
   "execution_count": 4,
   "metadata": {},
   "outputs": [],
   "source": [
    "def generate_vertex_set(dataframe):\n",
    "    '''\n",
    "    Generate a vertex set from the edge set\n",
    "    param: dataframe with ID1, ID2\n",
    "    '''\n",
    "    uniqueid1 = dataframe.select('src').distinct().rdd.map(lambda r: r[0]).collect()\n",
    "    uniqueid2 = dataframe.select('dst').distinct().rdd.map(lambda r: r[0]).collect()\n",
    "    unique_ids = list(set(uniqueid1).union(uniqueid2))\n",
    "    types = [vertex.split('_', 1)[0] for vertex in unique_ids]\n",
    "    \n",
    "    return sqlContext.createDataFrame(zip(unique_ids, types), ['id', \"type\"])"
   ]
  },
  {
   "cell_type": "code",
   "execution_count": 5,
   "metadata": {},
   "outputs": [],
   "source": [
    "sc.setCheckpointDir(dirName='/Users/waltoj/development/datascience/graph-frames-prototype/checkpoints')"
   ]
  },
  {
   "cell_type": "code",
   "execution_count": 6,
   "metadata": {},
   "outputs": [],
   "source": [
    "def get_subgraph_vertex_list(connected_components, component_id):\n",
    "    return connected_components.where(col('component') == component_id)"
   ]
  },
  {
   "cell_type": "code",
   "execution_count": 7,
   "metadata": {},
   "outputs": [],
   "source": [
    "def get_subgraph_edge_list(subgraph_vertex_list, edge_list):\n",
    "    \"\"\"\n",
    "    Edge list for subgraph vertex list\n",
    "    \"\"\"\n",
    "    vertex_ids = subgraph_vertex_list.distinct().rdd.map(lambda r: r[0]).collect()\n",
    "\n",
    "    return edge_list.where(col('src').isin(vertex_ids) | col('dst').isin(vertex_ids))"
   ]
  },
  {
   "cell_type": "code",
   "execution_count": 8,
   "metadata": {},
   "outputs": [],
   "source": [
    "def get_subgraph_components(component_id, connected_components, edge_list):\n",
    "    \"\"\"\n",
    "    Return edge list and vertex lists of the connected component generated from the connected_components algorithm\n",
    "    \"\"\"\n",
    "    subgraph_vertex_list = get_subgraph_vertex_list(connected_components, component_id) \n",
    "    subgraph_edge_list = get_subgraph_edge_list(subgraph_vertex_list , edge_list)\n",
    "    \n",
    "    return subgraph_vertex_list, subgraph_edge_list"
   ]
  },
  {
   "cell_type": "code",
   "execution_count": 9,
   "metadata": {},
   "outputs": [],
   "source": [
    "def multiple_ch_nodes(vertex_list):  \n",
    "    number_of_ch_nodes = vertex_list.where(vertex_list['type'] == 'CH').count()\n",
    "    return number_of_ch_nodes >= 2"
   ]
  },
  {
   "cell_type": "code",
   "execution_count": 10,
   "metadata": {},
   "outputs": [],
   "source": [
    "def process_subgraph(vertex_list, edge_list):\n",
    "    \"\"\"\n",
    "    Check generated legal units are valid and decompose any which aren't into smaller legal units\n",
    "    param: dataframe of the edge list of the sub graph\n",
    "    \n",
    "    Returns a list of the subgraphs (list of lists)\n",
    "    [[CH!, VAT2], [CH2, VAT3]]\n",
    "    \n",
    "    \"\"\"        \n",
    "    if multiple_ch_nodes(vertex_list):\n",
    "        return split_complex_sub_graphs(vertex_list, edge_list)\n",
    "            \n",
    "    return [[vertex['id'] for vertex in vertex_list.collect()]]     "
   ]
  },
  {
   "cell_type": "code",
   "execution_count": 14,
   "metadata": {},
   "outputs": [],
   "source": [
    "def collapse_step(edge_list):\n",
    "    '''\n",
    "    create legal units from the edge list produced by the random forest step\n",
    "    '''\n",
    "    vertex_list = generate_vertex_set(edge_list)\n",
    "    \n",
    "    graph = GraphFrame(vertex_list, edge_list)\n",
    "    \n",
    "    connected_components = graph.connectedComponents()\n",
    "    component_ids =  connected_components.select('component').distinct().rdd.map(lambda r: r[0]).collect()\n",
    "    \n",
    "    # Iterate over the subgraphs generated by the connected components algorithm \n",
    "    # applying business logic to split invalid ones\n",
    "    sub_graphs = []\n",
    "\n",
    "    for component_id in component_ids:\n",
    "        subgraph_vertex_list, subgraph_edge_list = get_subgraph_components(component_id, connected_components, edge_list)\n",
    "        sub_graphs += process_subgraph(subgraph_vertex_list, subgraph_edge_list)\n",
    "    \n",
    "    return sub_graphs"
   ]
  },
  {
   "cell_type": "code",
   "execution_count": 15,
   "metadata": {},
   "outputs": [],
   "source": [
    "# Test data\n",
    "edge_list = sqlContext.createDataFrame([\n",
    "  (\"CH_1\", \"VAT_1\", \"0.8\"),\n",
    "  (\"CH_1\", \"VAT_2\", \"0.9\"),\n",
    "  (\"CH_2\", \"VAT_2\", \"0.91\"),\n",
    "  (\"VAT_1\", \"PAYE_1\", \"0.86\"),\n",
    "], [\"src\", \"dst\", 'weight'])"
   ]
  },
  {
   "cell_type": "code",
   "execution_count": 16,
   "metadata": {},
   "outputs": [],
   "source": [
    "sub_graphs = collapse_step(edge_list)"
   ]
  },
  {
   "cell_type": "code",
   "execution_count": 17,
   "metadata": {},
   "outputs": [
    {
     "data": {
      "text/plain": [
       "[['CH_2', 'VAT_2'], ['CH_1', 'PAYE_1', 'VAT_1']]"
      ]
     },
     "execution_count": 17,
     "metadata": {},
     "output_type": "execute_result"
    }
   ],
   "source": [
    "sub_graphs"
   ]
  },
  {
   "cell_type": "code",
   "execution_count": 18,
   "metadata": {},
   "outputs": [],
   "source": [
    "# TODO: output a dataframe of the expected format, "
   ]
  },
  {
   "cell_type": "code",
   "execution_count": 19,
   "metadata": {},
   "outputs": [],
   "source": [
    "fields = [StructField('value', ArrayType(elementType=StringType(), containsNull=False), nullable=False)]"
   ]
  },
  {
   "cell_type": "raw",
   "metadata": {},
   "source": [
    "output_dataframe = sqlContext.createDataFrame(sub_graphs, schema=StructType(fields))"
   ]
  },
  {
   "cell_type": "code",
   "execution_count": 20,
   "metadata": {},
   "outputs": [
    {
     "ename": "NameError",
     "evalue": "name 'output_dataframe' is not defined",
     "output_type": "error",
     "traceback": [
      "\u001b[0;31m---------------------------------------------------------------------------\u001b[0m",
      "\u001b[0;31mNameError\u001b[0m                                 Traceback (most recent call last)",
      "\u001b[0;32m<ipython-input-20-cea358e09537>\u001b[0m in \u001b[0;36m<module>\u001b[0;34m()\u001b[0m\n\u001b[0;32m----> 1\u001b[0;31m \u001b[0moutput_dataframe\u001b[0m\u001b[0;34m.\u001b[0m\u001b[0mcollect\u001b[0m\u001b[0;34m(\u001b[0m\u001b[0;34m)\u001b[0m\u001b[0;34m\u001b[0m\u001b[0m\n\u001b[0m",
      "\u001b[0;31mNameError\u001b[0m: name 'output_dataframe' is not defined"
     ]
    }
   ],
   "source": [
    "output_dataframe.collect()"
   ]
  },
  {
   "cell_type": "code",
   "execution_count": null,
   "metadata": {},
   "outputs": [],
   "source": []
  },
  {
   "cell_type": "code",
   "execution_count": null,
   "metadata": {},
   "outputs": [],
   "source": []
  }
 ],
 "metadata": {
  "kernelspec": {
   "display_name": "Python 3",
   "language": "python",
   "name": "python3"
  },
  "language_info": {
   "codemirror_mode": {
    "name": "ipython",
    "version": 3
   },
   "file_extension": ".py",
   "mimetype": "text/x-python",
   "name": "python",
   "nbconvert_exporter": "python",
   "pygments_lexer": "ipython3",
   "version": "3.6.5"
  }
 },
 "nbformat": 4,
 "nbformat_minor": 2
}
