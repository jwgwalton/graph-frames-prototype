{
 "cells": [
  {
   "cell_type": "code",
   "execution_count": 1,
   "metadata": {},
   "outputs": [],
   "source": [
    "from collections import defaultdict\n",
    "\n",
    "from graphframes import GraphFrame\n",
    "from pyspark.sql.functions import col, udf\n",
    "from pyspark.sql.types import StructField, ArrayType, StringType, StructType"
   ]
  },
  {
   "cell_type": "code",
   "execution_count": 2,
   "metadata": {},
   "outputs": [],
   "source": [
    "v = sqlContext.createDataFrame([\n",
    "  (\"CH1\", \"CH\"),\n",
    "  (\"CH2\", \"CH\"),\n",
    "  (\"VAT1\", \"VAT\"),\n",
    "  (\"VAT2\", \"VAT\"),\n",
    "  (\"PAYE1\", \"PAYE\"),\n",
    "  (\"PAYE2\", \"PAYE\"),\n",
    "], [\"id\", \"type\"])"
   ]
  },
  {
   "cell_type": "code",
   "execution_count": 3,
   "metadata": {},
   "outputs": [],
   "source": [
    "e = sqlContext.createDataFrame([\n",
    "  (\"CH1\", \"VAT1\", \"1\"),\n",
    "  (\"CH1\", \"VAT2\", \"1\"),\n",
    "  (\"CH2\", \"VAT2\", \"1\"),\n",
    "  (\"VAT1\", \"PAYE1\", \"1\"),\n",
    "  (\"VAT1\", \"PAYE2\", \"1\"),    \n",
    "], [\"src\", \"dst\", 'weight'])"
   ]
  },
  {
   "cell_type": "code",
   "execution_count": 4,
   "metadata": {},
   "outputs": [],
   "source": [
    "def get_closest_ch(distances):\n",
    "    '''\n",
    "    Function to iterate over output of shortestPaths graphframes algorithm\n",
    "    '''\n",
    "    closest_match_distance = 10000 # np.inf?\n",
    "    closest_match = None # should always be a CH node, \n",
    "    \n",
    "    for node, distance in distances.items():\n",
    "        if node.startswith(\"CH\"):\n",
    "            if distance < closest_match_distance:\n",
    "                closest_match_distance = distance\n",
    "                closest_match = node\n",
    "                                \n",
    "    return closest_match"
   ]
  },
  {
   "cell_type": "code",
   "execution_count": 5,
   "metadata": {},
   "outputs": [],
   "source": [
    "getClosestCHUDF = udf(get_closest_ch, StringType())"
   ]
  },
  {
   "cell_type": "code",
   "execution_count": 6,
   "metadata": {},
   "outputs": [],
   "source": [
    "def get_subgraphs_dict(ch_list, vertex_list):\n",
    "    \"\"\"\n",
    "    Get dict of subraphs keyed by their CH node\n",
    "    {\n",
    "        \"CH1\": [\"VAT1\", \"CH!\", \"VAT2\"]\n",
    "        \"CH2\": [\"VAT12\", \"CH2\"]\n",
    "    }\n",
    "    \"\"\"\n",
    "    subgraphs_dict = defaultdict(list)\n",
    "    \n",
    "    for node in vertex_list.collect():\n",
    "        subgraphs_dict[node['closest_ch']].append(node['id'])\n",
    "        \n",
    "    return subgraphs_dict\n"
   ]
  },
  {
   "cell_type": "code",
   "execution_count": 7,
   "metadata": {},
   "outputs": [],
   "source": [
    "def get_ch_nodes_list(vertex_list):\n",
    "    ch_nodes = vertex_list.where(vertex_list['type'] == 'CH')\n",
    "    return ch_nodes.rdd.map(lambda r: r[0]).collect()"
   ]
  },
  {
   "cell_type": "code",
   "execution_count": 8,
   "metadata": {},
   "outputs": [],
   "source": [
    "def split_complex_sub_graphs(vertex_list, edge_list):\n",
    "    \"\"\"\n",
    "    Split sub graph, return a list of the split subgraphs vertex lists\n",
    "    \"\"\"\n",
    "    G = GraphFrame(vertex_list, edge_list)\n",
    "    \n",
    "    ch_node_list = get_ch_nodes_list(vertex_list)\n",
    "    \n",
    "    shortest_paths_to_ch_nodes = G.shortestPaths(ch_node_list)\n",
    "    \n",
    "    # add a closest ch column\n",
    "    closest_ch_nodes = shortest_paths_to_ch_nodes.withColumn(\"closest_ch\", getClosestCHUDF(shortest_paths_to_ch_nodes.distances))\n",
    "    \n",
    "    # Dictionary of subgraphs, keyed by CH vertex\n",
    "    subgraphs_dict = get_subgraphs_dict(ch_node_list, closest_ch_nodes)\n",
    "    \n",
    "    return [value for value in subgraphs_dict.values()]"
   ]
  },
  {
   "cell_type": "code",
   "execution_count": 10,
   "metadata": {},
   "outputs": [
    {
     "data": {
      "text/plain": [
       "[['PAYE2', 'PAYE1', 'VAT2', 'VAT1'], ['CH1'], ['CH2']]"
      ]
     },
     "execution_count": 10,
     "metadata": {},
     "output_type": "execute_result"
    }
   ],
   "source": [
    "split_complex_sub_graphs(v, e)"
   ]
  }
 ],
 "metadata": {
  "kernelspec": {
   "display_name": "Python 3",
   "language": "python",
   "name": "python3"
  },
  "language_info": {
   "codemirror_mode": {
    "name": "ipython",
    "version": 3
   },
   "file_extension": ".py",
   "mimetype": "text/x-python",
   "name": "python",
   "nbconvert_exporter": "python",
   "pygments_lexer": "ipython3",
   "version": "3.6.5"
  }
 },
 "nbformat": 4,
 "nbformat_minor": 2
}
