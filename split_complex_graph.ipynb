{
 "cells": [
  {
   "cell_type": "code",
   "execution_count": 1,
   "metadata": {},
   "outputs": [],
   "source": [
    "# run up the shell with  \n",
    "\n",
    "# pyspark --packages graphframes:graphframes:0.5.0-spark2.1-s_2.11\n",
    "\n",
    "# to allow for the graphframes import\n",
    "\n",
    "from collections import defaultdict\n",
    "\n",
    "from graphframes import GraphFrame\n",
    "from pyspark.sql.functions import col, udf\n",
    "from pyspark.sql.types import StructField, ArrayType, StringType, StructType"
   ]
  },
  {
   "cell_type": "code",
   "execution_count": 2,
   "metadata": {},
   "outputs": [],
   "source": [
    "# Type added when creating the vertex set to begin with\n",
    "\n",
    "v = sqlContext.createDataFrame([\n",
    "  (\"CH1\", \"CH\"),\n",
    "  (\"CH2\", \"CH\"),\n",
    "  (\"VAT1\", \"VAT\"),\n",
    "  (\"VAT2\", \"VAT\"),\n",
    "  (\"PAYE1\", \"PAYE\"),\n",
    "  (\"PAYE2\", \"PAYE\"),\n",
    "], [\"id\", \"type\"])"
   ]
  },
  {
   "cell_type": "code",
   "execution_count": 3,
   "metadata": {},
   "outputs": [],
   "source": [
    "e = sqlContext.createDataFrame([\n",
    "  (\"CH1\", \"VAT1\", \"0.8\"),\n",
    "  (\"CH1\", \"VAT2\", \"0.9\"),\n",
    "  (\"CH2\", \"VAT2\", \"0.91\"),\n",
    "  (\"VAT1\", \"PAYE1\", \"0.8\"),\n",
    "  (\"VAT1\", \"PAYE2\", \"0.87\"),    \n",
    "], [\"src\", \"dst\", 'weight'])"
   ]
  },
  {
   "cell_type": "code",
   "execution_count": 4,
   "metadata": {},
   "outputs": [],
   "source": [
    "def get_closest_ch(distances):\n",
    "    '''\n",
    "    Function to iterate over output of shortestPaths graphframes algorithm\n",
    "    '''\n",
    "    closest_match_distance = 10000 # np.inf?\n",
    "    closest_match = None # Will always be a CH node as we are partitioning a complex unit which has been tested for multiple CH nodes\n",
    "    \n",
    "    for node, distance in distances.items():\n",
    "        if node.startswith(\"CH\"):\n",
    "            if distance < closest_match_distance:\n",
    "                closest_match_distance = distance\n",
    "                closest_match = node\n",
    "                                \n",
    "    return closest_match"
   ]
  },
  {
   "cell_type": "code",
   "execution_count": 5,
   "metadata": {},
   "outputs": [],
   "source": [
    "getClosestCHUDF = udf(get_closest_ch, StringType())"
   ]
  },
  {
   "cell_type": "code",
   "execution_count": 6,
   "metadata": {},
   "outputs": [],
   "source": [
    "def get_subgraphs_dict(ch_list, vertex_list):\n",
    "    \"\"\"\n",
    "    Get dict of subraphs keyed by their CH node\n",
    "    {\n",
    "        \"CH1\": [\"VAT1\", \"CH!\", \"VAT2\"]\n",
    "        \"CH2\": [\"VAT12\", \"CH2\"]\n",
    "    }\n",
    "    \"\"\"\n",
    "    subgraphs_dict = defaultdict(list)\n",
    "    \n",
    "    for node in vertex_list.collect():\n",
    "        subgraphs_dict[node['closest_ch']].append(node['id'])\n",
    "        \n",
    "    return subgraphs_dict\n"
   ]
  },
  {
   "cell_type": "code",
   "execution_count": 7,
   "metadata": {},
   "outputs": [],
   "source": [
    "def get_ch_nodes_list(vertex_list):\n",
    "    ch_nodes = vertex_list.where(vertex_list['type'] == 'CH')\n",
    "    return ch_nodes.rdd.map(lambda r: r[0]).collect()"
   ]
  },
  {
   "cell_type": "code",
   "execution_count": 8,
   "metadata": {},
   "outputs": [],
   "source": [
    "def add_opposite_direction_edges(edge_list):\n",
    "    \"\"\"\n",
    "    The shortest path algorithm uses the direction of the edges are directional, \n",
    "    adding an edge in other direction of equal weight gives the effect of undirected edges.\n",
    "    \"\"\"\n",
    "    inverse_edge_list = edge_list\n",
    "    inverse_edge_list = inverse_edge_list.withColumnRenamed('src', 'dst_copy')\n",
    "    inverse_edge_list = inverse_edge_list.withColumnRenamed('dst', 'src')\n",
    "    inverse_edge_list = inverse_edge_list.withColumnRenamed('dst_copy', 'dst')\n",
    "    return edge_list.union(inverse_edge_list.select('src', 'dst', 'weight'))"
   ]
  },
  {
   "cell_type": "code",
   "execution_count": 85,
   "metadata": {},
   "outputs": [],
   "source": [
    "def find_closest_ch(edge_list, vertex, path=[], path_weight=0):\n",
    "    path = path + [vertex[0]]\n",
    "\n",
    "    print('path: ', path)\n",
    "    print(vertex[0])\n",
    "    \n",
    "    if vertex[0].startswith('CH'):\n",
    "        return vertex\n",
    "    \n",
    "    #print(edge_list.collect())\n",
    "    \n",
    "    possible_dsts = edge_list.filter(edge_list['src'] == vertex[0]).rdd.map(lambda r: (r[1], r[2])).collect() # possible dst nodes from src node\n",
    "    \n",
    "    print(possible_dsts)\n",
    "    if possible_dsts == []:\n",
    "        return None\n",
    "    \n",
    "    shortest = None\n",
    "\n",
    "    for node in possible_dsts:\n",
    "        if node[0] not in path:\n",
    "            newpath = find_closest_ch(edge_list, node, path, path_weight)\n",
    "            if newpath:\n",
    "                print('newpath: ', newpath)\n",
    "                if not shortest or len(newpath) < len(shortest): # Need to take into account the weight of the path?\n",
    "                    shortest = newpath\n",
    "    return shortest"
   ]
  },
  {
   "cell_type": "code",
   "execution_count": 86,
   "metadata": {},
   "outputs": [],
   "source": [
    "# test the find_closes_ch algorithm\n",
    "#e = add_opposite_direction_edges(e)\n",
    "#e.collect()\n",
    "#find_closest_ch(e, 'PAYE1')"
   ]
  },
  {
   "cell_type": "code",
   "execution_count": 87,
   "metadata": {},
   "outputs": [],
   "source": [
    "def split_complex_sub_graphs(vertex_list, edge_list):\n",
    "    \"\"\"\n",
    "    Split sub graph, return a list of the split subgraphs vertex lists\n",
    "    \n",
    "    \"\"\"\n",
    "    edge_list = add_opposite_direction_edges(edge_list)\n",
    "    \n",
    "    #G = GraphFrame(vertex_list, edge_list)\n",
    "    \n",
    "    #ch_node_list = get_ch_nodes_list(vertex_list)\n",
    "    \n",
    "    # Doesn't take into account weights\n",
    "    #shortest_paths_to_ch_nodes = G.shortestPaths(landmarks=ch_node_list)\n",
    "    \n",
    "    # TODO: weighted shortest paths  or closest CH algorithm (djikstras with shortest path to node of type \"CH\")\n",
    "    \n",
    "    subgraphs_dict = defaultdict(list)\n",
    "\n",
    "    all_nodes = vertex_list.rdd.map(lambda r: (r[0],r[1])).collect()\n",
    "    for node in all_nodes:\n",
    "        #print(node)\n",
    "        closest_ch_node = find_closest_ch(edge_list, node)\n",
    "        #print('closest ch node', closest_ch_node)\n",
    "        subgraphs_dict[closest_ch_node[0]].append(node[0])\n",
    "    \n",
    "    print(subgraphs_dict)\n",
    "    #nodes_with_closest_ch_distance = shortest_paths_to_ch_nodes.withColumn(\"closest_ch\", getClosestCHUDF(shortest_paths_to_ch_nodes.distances))\n",
    "    \n",
    "    # Dictionary of subgraphs, keyed by CH vertex\n",
    "    #subgraphs_dict = get_subgraphs_dict(ch_node_list, nodes_with_closest_ch_distance)\n",
    "    \n",
    "    return [subgraph for subgraph in subgraphs_dict.values()]"
   ]
  },
  {
   "cell_type": "code",
   "execution_count": 88,
   "metadata": {},
   "outputs": [
    {
     "name": "stdout",
     "output_type": "stream",
     "text": [
      "path:  ['CH1']\n",
      "CH1\n",
      "path:  ['CH2']\n",
      "CH2\n",
      "path:  ['VAT1']\n",
      "VAT1\n",
      "[('PAYE1', '0.8'), ('PAYE2', '0.87'), ('CH1', '0.8')]\n",
      "path:  ['VAT1', 'PAYE1']\n",
      "PAYE1\n",
      "[('VAT1', '0.8')]\n",
      "path:  ['VAT1', 'PAYE2']\n",
      "PAYE2\n",
      "[('VAT1', '0.87')]\n",
      "path:  ['VAT1', 'CH1']\n",
      "CH1\n",
      "newpath:  ('CH1', '0.8')\n",
      "path:  ['VAT2']\n",
      "VAT2\n",
      "[('CH1', '0.9'), ('CH2', '0.91')]\n",
      "path:  ['VAT2', 'CH1']\n",
      "CH1\n",
      "newpath:  ('CH1', '0.9')\n",
      "path:  ['VAT2', 'CH2']\n",
      "CH2\n",
      "newpath:  ('CH2', '0.91')\n",
      "path:  ['PAYE1']\n",
      "PAYE1\n",
      "[('VAT1', '0.8')]\n",
      "path:  ['PAYE1', 'VAT1']\n",
      "VAT1\n",
      "[('PAYE1', '0.8'), ('PAYE2', '0.87'), ('CH1', '0.8')]\n",
      "path:  ['PAYE1', 'VAT1', 'PAYE2']\n",
      "PAYE2\n",
      "[('VAT1', '0.87')]\n",
      "path:  ['PAYE1', 'VAT1', 'CH1']\n",
      "CH1\n",
      "newpath:  ('CH1', '0.8')\n",
      "newpath:  ('CH1', '0.8')\n",
      "path:  ['PAYE2']\n",
      "PAYE2\n",
      "[('VAT1', '0.87')]\n",
      "path:  ['PAYE2', 'VAT1']\n",
      "VAT1\n",
      "[('PAYE1', '0.8'), ('PAYE2', '0.87'), ('CH1', '0.8')]\n",
      "path:  ['PAYE2', 'VAT1', 'PAYE1']\n",
      "PAYE1\n",
      "[('VAT1', '0.8')]\n",
      "path:  ['PAYE2', 'VAT1', 'CH1']\n",
      "CH1\n",
      "newpath:  ('CH1', '0.8')\n",
      "newpath:  ('CH1', '0.8')\n",
      "defaultdict(<class 'list'>, {'CH1': ['CH1', 'VAT1', 'VAT2', 'PAYE1', 'PAYE2'], 'CH2': ['CH2']})\n"
     ]
    },
    {
     "data": {
      "text/plain": [
       "[['CH1', 'VAT1', 'VAT2', 'PAYE1', 'PAYE2'], ['CH2']]"
      ]
     },
     "execution_count": 88,
     "metadata": {},
     "output_type": "execute_result"
    }
   ],
   "source": [
    "split_complex_sub_graphs(v, e)"
   ]
  },
  {
   "cell_type": "code",
   "execution_count": null,
   "metadata": {},
   "outputs": [],
   "source": []
  },
  {
   "cell_type": "code",
   "execution_count": null,
   "metadata": {},
   "outputs": [],
   "source": []
  },
  {
   "cell_type": "code",
   "execution_count": null,
   "metadata": {},
   "outputs": [],
   "source": []
  }
 ],
 "metadata": {
  "kernelspec": {
   "display_name": "Python 3",
   "language": "python",
   "name": "python3"
  },
  "language_info": {
   "codemirror_mode": {
    "name": "ipython",
    "version": 3
   },
   "file_extension": ".py",
   "mimetype": "text/x-python",
   "name": "python",
   "nbconvert_exporter": "python",
   "pygments_lexer": "ipython3",
   "version": "3.6.5"
  }
 },
 "nbformat": 4,
 "nbformat_minor": 2
}
