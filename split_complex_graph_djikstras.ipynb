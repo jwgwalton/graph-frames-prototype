{
 "cells": [
  {
   "cell_type": "code",
   "execution_count": 24,
   "metadata": {},
   "outputs": [],
   "source": [
    "# run up the shell with  \n",
    "\n",
    "# pyspark --packages graphframes:graphframes:0.5.0-spark2.1-s_2.11\n",
    "\n",
    "# to allow for the graphframes import\n",
    "\n",
    "from collections import defaultdict\n",
    "from graphframes import GraphFrame"
   ]
  },
  {
   "cell_type": "code",
   "execution_count": 25,
   "metadata": {},
   "outputs": [],
   "source": [
    "# Type added when creating the vertex set to begin with\n",
    "\n",
    "v = sqlContext.createDataFrame([\n",
    "  (\"CH1\", \"CH\"),\n",
    "  (\"CH2\", \"CH\"),\n",
    "  (\"VAT1\", \"VAT\"),\n",
    "  (\"VAT2\", \"VAT\"),\n",
    "  (\"PAYE1\", \"PAYE\"),\n",
    "  (\"PAYE2\", \"PAYE\"),\n",
    "], [\"id\", \"type\"])"
   ]
  },
  {
   "cell_type": "code",
   "execution_count": 26,
   "metadata": {},
   "outputs": [],
   "source": [
    "e = sqlContext.createDataFrame([\n",
    "  (\"CH1\", \"VAT1\", \"0.8\"),\n",
    "  (\"CH1\", \"VAT2\", \"0.9\"),\n",
    "  (\"CH2\", \"VAT2\", \"0.92\"),\n",
    "  (\"VAT1\", \"PAYE1\", \"0.8\"),\n",
    "  (\"VAT1\", \"PAYE2\", \"0.87\"),    \n",
    "], [\"src\", \"dst\", 'weight'])"
   ]
  },
  {
   "cell_type": "code",
   "execution_count": 27,
   "metadata": {},
   "outputs": [],
   "source": [
    "def add_opposite_direction_edges(edge_list):\n",
    "    \"\"\"\n",
    "    The shortest path algorithm uses the direction of the edges are directional, \n",
    "    adding an edge in other direction of equal weight gives the effect of undirected edges.\n",
    "    \"\"\"\n",
    "    inverse_edge_list = edge_list\n",
    "    inverse_edge_list = inverse_edge_list.withColumnRenamed('src', 'dst_copy')\n",
    "    inverse_edge_list = inverse_edge_list.withColumnRenamed('dst', 'src')\n",
    "    inverse_edge_list = inverse_edge_list.withColumnRenamed('dst_copy', 'dst')\n",
    "    return edge_list.union(inverse_edge_list.select('src', 'dst', 'weight'))"
   ]
  },
  {
   "cell_type": "code",
   "execution_count": 28,
   "metadata": {},
   "outputs": [],
   "source": [
    "def is_better_path(newpath, oldpath):\n",
    "    \"\"\"\n",
    "    is new path more strongly weighted than old path\n",
    "    \n",
    "    newpath, oldpath:  lists of tuples with node and weight\n",
    "    \"\"\"\n",
    "    new_path_length = [float(node[1]) for node in newpath]\n",
    "    old_path_length = [float(node[1]) for node in oldpath]\n",
    "\n",
    "    # This returns the most strongly weighted path rather than shortest, is this a problem for long paths of weak edges?\n",
    "    return sum(new_path_length) > sum(old_path_length)"
   ]
  },
  {
   "cell_type": "code",
   "execution_count": 29,
   "metadata": {},
   "outputs": [],
   "source": [
    "def find_closest_ch_path(edge_list, vertex, path=[]):\n",
    "    # list of tuples, (node_id, path_weight)\n",
    "    path = path + [vertex] \n",
    "        \n",
    "    if vertex[0].startswith('CH'):\n",
    "        return path \n",
    "    \n",
    "    #TODO: max path length constraint?\n",
    "    \n",
    "    possible_dsts = edge_list.filter(edge_list['src'] == vertex[0]).rdd.map(lambda r: (r[1], r[2])).collect() \n",
    "    shortest = None\n",
    "\n",
    "    for node in possible_dsts:\n",
    "        if node not in path: \n",
    "            newpath = find_closest_ch_path(edge_list, node, path)\n",
    "            if newpath:\n",
    "                if not shortest or is_better_path(newpath, shortest):\n",
    "                    shortest = newpath\n",
    "    return shortest"
   ]
  },
  {
   "cell_type": "code",
   "execution_count": 30,
   "metadata": {},
   "outputs": [],
   "source": [
    "def split_complex_sub_graphs(vertex_list, edge_list):\n",
    "    \"\"\"\n",
    "    Split sub graph, return a list of the split subgraphs vertex lists\n",
    "    \n",
    "    \"\"\"\n",
    "    # graph is undirected so need edges in both directions\n",
    "    edge_list = add_opposite_direction_edges(edge_list)\n",
    "        \n",
    "    subgraphs_dict = defaultdict(list)\n",
    "\n",
    "    all_nodes = vertex_list.rdd.map(lambda r: (r[0], 0)).collect()\n",
    "    \n",
    "    for node in all_nodes:\n",
    "        closest_ch_path = find_closest_ch_path(edge_list, node)\n",
    "        closest_ch_node = closest_ch_path[-1][0]\n",
    "        subgraphs_dict[closest_ch_node].append(node[0])\n",
    "        \n",
    "    return [subgraph for subgraph in subgraphs_dict.values()]"
   ]
  },
  {
   "cell_type": "code",
   "execution_count": 31,
   "metadata": {},
   "outputs": [
    {
     "data": {
      "text/plain": [
       "[['CH1', 'VAT1', 'PAYE1', 'PAYE2'], ['CH2', 'VAT2']]"
      ]
     },
     "execution_count": 31,
     "metadata": {},
     "output_type": "execute_result"
    }
   ],
   "source": [
    "split_complex_sub_graphs(v, e)"
   ]
  },
  {
   "cell_type": "code",
   "execution_count": 32,
   "metadata": {},
   "outputs": [],
   "source": [
    "############### Testing ####################"
   ]
  },
  {
   "cell_type": "code",
   "execution_count": 33,
   "metadata": {},
   "outputs": [],
   "source": [
    "v1 = sqlContext.createDataFrame([\n",
    "  (\"CH1\", \"CH\"),\n",
    "  (\"CH2\", \"CH\"),\n",
    "  (\"VAT1\", \"VAT\"),\n",
    "  (\"VAT2\", \"VAT\"),\n",
    "], [\"id\", \"type\"])\n",
    "\n",
    "e1 = sqlContext.createDataFrame([\n",
    "  (\"CH1\", \"VAT1\", \"0.9\"),\n",
    "  (\"VAT1\", \"VAT2\", \"0.8\"),\n",
    "  (\"CH2\", \"VAT2\", \"0.92\"),   \n",
    "], [\"src\", \"dst\", 'weight'])"
   ]
  },
  {
   "cell_type": "code",
   "execution_count": 34,
   "metadata": {},
   "outputs": [],
   "source": [
    "assert split_complex_sub_graphs(v1, e1) == [['CH1', 'VAT1'], ['CH2', 'VAT2']]"
   ]
  },
  {
   "cell_type": "code",
   "execution_count": 35,
   "metadata": {},
   "outputs": [],
   "source": [
    "v2 = sqlContext.createDataFrame([\n",
    "  (\"CH1\", \"CH\"),\n",
    "  (\"CH2\", \"CH\"),\n",
    "  (\"VAT1\", \"VAT\"),\n",
    "  (\"VAT2\", \"VAT\"),\n",
    "  (\"PAYE1\", \"PAYE\"),\n",
    "], [\"id\", \"type\"])\n",
    "\n",
    "e2 = sqlContext.createDataFrame([\n",
    "  (\"CH1\", \"VAT1\", \"0.9\"),\n",
    "  (\"CH2\", \"VAT1\", \"0.92\"),   \n",
    "  (\"CH2\", \"PAYE1\", \"0.92\"),   \n",
    "  (\"CH2\", \"VAT2\", \"0.92\"),   \n",
    "], [\"src\", \"dst\", 'weight'])"
   ]
  },
  {
   "cell_type": "code",
   "execution_count": 36,
   "metadata": {},
   "outputs": [],
   "source": [
    "assert split_complex_sub_graphs(v2, e2) == [['CH1'], ['CH2', 'VAT1', 'VAT2', 'PAYE1']]"
   ]
  },
  {
   "cell_type": "code",
   "execution_count": 37,
   "metadata": {},
   "outputs": [],
   "source": [
    "v3 = sqlContext.createDataFrame([\n",
    "  (\"CH1\", \"CH\"),\n",
    "  (\"CH2\", \"CH\"),\n",
    "  (\"VAT1\", \"VAT\"),\n",
    "  (\"VAT2\", \"VAT\"),\n",
    "], [\"id\", \"type\"])\n",
    "\n",
    "e3 = sqlContext.createDataFrame([\n",
    "  (\"CH1\", \"VAT1\", \"0.9\"),\n",
    "  (\"CH2\", \"VAT1\", \"0.92\"),   \n",
    "  (\"CH2\", \"VAT2\", \"0.92\"),   \n",
    "  (\"CH1\", \"VAT2\", \"0.93\"),   \n",
    "], [\"src\", \"dst\", 'weight'])"
   ]
  },
  {
   "cell_type": "code",
   "execution_count": 38,
   "metadata": {},
   "outputs": [],
   "source": [
    "assert split_complex_sub_graphs(v3, e3) == [['CH1', 'VAT2'], ['CH2', 'VAT1']]"
   ]
  },
  {
   "cell_type": "code",
   "execution_count": 39,
   "metadata": {},
   "outputs": [],
   "source": [
    "v4 = sqlContext.createDataFrame([\n",
    "  (\"CH1\", \"CH\"),\n",
    "  (\"CH2\", \"CH\"),\n",
    "  (\"VAT1\", \"VAT\"),\n",
    "  (\"VAT2\", \"VAT\"),\n",
    "  ('PAYE3', 'PAYE')\n",
    "], [\"id\", \"type\"])\n",
    "\n",
    "e4 = sqlContext.createDataFrame([\n",
    "  (\"CH1\", \"VAT1\", \"0.9\"),\n",
    "  (\"VAT1\", \"VAT2\", \"0.7\"),\n",
    "  (\"VAT2\", \"PAYE3\", \"0.8\"),\n",
    "  (\"CH2\", \"PAYE3\", \"0.95\"),   \n",
    "], [\"src\", \"dst\", 'weight'])"
   ]
  },
  {
   "cell_type": "code",
   "execution_count": 40,
   "metadata": {},
   "outputs": [
    {
     "data": {
      "text/plain": [
       "[['CH1', 'VAT1', 'VAT2'], ['CH2', 'PAYE3']]"
      ]
     },
     "execution_count": 40,
     "metadata": {},
     "output_type": "execute_result"
    }
   ],
   "source": [
    "split_complex_sub_graphs(v4, e4)"
   ]
  },
  {
   "cell_type": "code",
   "execution_count": 41,
   "metadata": {},
   "outputs": [],
   "source": [
    "assert split_complex_sub_graphs(v4, e4) == [['CH1', 'VAT1', 'VAT2'], ['CH2', 'PAYE3']]"
   ]
  },
  {
   "cell_type": "code",
   "execution_count": 42,
   "metadata": {},
   "outputs": [],
   "source": [
    "v5 = sqlContext.createDataFrame([\n",
    "  (\"CH1\", \"CH\"),\n",
    "  (\"CH2\", \"CH\"),\n",
    "  (\"VAT1\", \"VAT\"),\n",
    "  (\"VAT2\", \"VAT\"),\n",
    "], [\"id\", \"type\"])\n",
    "\n",
    "e5 = sqlContext.createDataFrame([\n",
    "  (\"CH1\", \"VAT1\", \"0.9\"),\n",
    "  (\"VAT1\", \"VAT2\", \"0.8\"),\n",
    "  (\"CH2\", \"VAT2\", \"0.8\"),   \n",
    "], [\"src\", \"dst\", 'weight'])"
   ]
  },
  {
   "cell_type": "code",
   "execution_count": 43,
   "metadata": {},
   "outputs": [],
   "source": [
    "assert split_complex_sub_graphs(v5, e5) == [['CH1', 'VAT1'], ['CH2', 'VAT2']]"
   ]
  }
 ],
 "metadata": {
  "kernelspec": {
   "display_name": "Python 3",
   "language": "python",
   "name": "python3"
  },
  "language_info": {
   "codemirror_mode": {
    "name": "ipython",
    "version": 3
   },
   "file_extension": ".py",
   "mimetype": "text/x-python",
   "name": "python",
   "nbconvert_exporter": "python",
   "pygments_lexer": "ipython3",
   "version": "3.6.5"
  }
 },
 "nbformat": 4,
 "nbformat_minor": 2
}
